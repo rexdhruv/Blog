{
 "cells": [
  {
   "cell_type": "markdown",
   "id": "84ab5b71",
   "metadata": {},
   "source": [
    "# Loan Application Status Prediction\n",
    "## Problem Statement:\n",
    "This dataset includes details of applicants who have applied for loan. The dataset includes details like credit history, loan amount, their income, dependents etc. \n",
    "#### Independent Variables:\n",
    "* Loan_ID\n",
    "* Gender\n",
    "* Married\n",
    "* Dependents\n",
    "* Education\n",
    "* Self_Employed\n",
    "* ApplicantIncome\n",
    "* CoapplicantIncome\n",
    "* Loan_Amount\n",
    "* Loan_Amount_Term\n",
    "* Credit History\n",
    "* Property_Area\n",
    "\n",
    "#### Dependent Variable (Target Variable):\n",
    "* Loan_Status\n",
    "You have to build a model that can predict whether the loan of the applicant will be approved or not on the basis of the details provided in the dataset. \n",
    "\n",
    "Note: The link of the dataset is below. \n",
    "#### Downlaod Files:\n",
    "•\thttps://github.com/dsrscientist/DSData/blob/master/loan_prediction.csv"
   ]
  },
  {
   "cell_type": "markdown",
   "id": "658c0a31",
   "metadata": {},
   "source": [
    "# Import the libraries"
   ]
  },
  {
   "cell_type": "code",
   "execution_count": 1,
   "id": "1cfa4f50",
   "metadata": {},
   "outputs": [],
   "source": [
    "import numpy as np\n",
    "import pandas as pd\n",
    "from scipy.stats import randint\n",
    "import matplotlib.pyplot as plt\n",
    "import seaborn as sns\n",
    "\n",
    "import warnings\n",
    "warnings.filterwarnings('ignore')"
   ]
  },
  {
   "cell_type": "markdown",
   "id": "5fcf340e",
   "metadata": {},
   "source": [
    "# Load the dataset"
   ]
  },
  {
   "cell_type": "code",
   "execution_count": 65,
   "id": "9acf177d",
   "metadata": {},
   "outputs": [
    {
     "data": {
      "text/html": [
       "<div>\n",
       "<style scoped>\n",
       "    .dataframe tbody tr th:only-of-type {\n",
       "        vertical-align: middle;\n",
       "    }\n",
       "\n",
       "    .dataframe tbody tr th {\n",
       "        vertical-align: top;\n",
       "    }\n",
       "\n",
       "    .dataframe thead th {\n",
       "        text-align: right;\n",
       "    }\n",
       "</style>\n",
       "<table border=\"1\" class=\"dataframe\">\n",
       "  <thead>\n",
       "    <tr style=\"text-align: right;\">\n",
       "      <th></th>\n",
       "      <th>Loan_ID</th>\n",
       "      <th>Gender</th>\n",
       "      <th>Married</th>\n",
       "      <th>Dependents</th>\n",
       "      <th>Education</th>\n",
       "      <th>Self_Employed</th>\n",
       "      <th>ApplicantIncome</th>\n",
       "      <th>CoapplicantIncome</th>\n",
       "      <th>LoanAmount</th>\n",
       "      <th>Loan_Amount_Term</th>\n",
       "      <th>Credit_History</th>\n",
       "      <th>Property_Area</th>\n",
       "      <th>Loan_Status</th>\n",
       "    </tr>\n",
       "  </thead>\n",
       "  <tbody>\n",
       "    <tr>\n",
       "      <th>0</th>\n",
       "      <td>LP001002</td>\n",
       "      <td>Male</td>\n",
       "      <td>No</td>\n",
       "      <td>0</td>\n",
       "      <td>Graduate</td>\n",
       "      <td>No</td>\n",
       "      <td>5849</td>\n",
       "      <td>0.0</td>\n",
       "      <td>NaN</td>\n",
       "      <td>360.0</td>\n",
       "      <td>1.0</td>\n",
       "      <td>Urban</td>\n",
       "      <td>Y</td>\n",
       "    </tr>\n",
       "    <tr>\n",
       "      <th>1</th>\n",
       "      <td>LP001003</td>\n",
       "      <td>Male</td>\n",
       "      <td>Yes</td>\n",
       "      <td>1</td>\n",
       "      <td>Graduate</td>\n",
       "      <td>No</td>\n",
       "      <td>4583</td>\n",
       "      <td>1508.0</td>\n",
       "      <td>128.0</td>\n",
       "      <td>360.0</td>\n",
       "      <td>1.0</td>\n",
       "      <td>Rural</td>\n",
       "      <td>N</td>\n",
       "    </tr>\n",
       "    <tr>\n",
       "      <th>2</th>\n",
       "      <td>LP001005</td>\n",
       "      <td>Male</td>\n",
       "      <td>Yes</td>\n",
       "      <td>0</td>\n",
       "      <td>Graduate</td>\n",
       "      <td>Yes</td>\n",
       "      <td>3000</td>\n",
       "      <td>0.0</td>\n",
       "      <td>66.0</td>\n",
       "      <td>360.0</td>\n",
       "      <td>1.0</td>\n",
       "      <td>Urban</td>\n",
       "      <td>Y</td>\n",
       "    </tr>\n",
       "    <tr>\n",
       "      <th>3</th>\n",
       "      <td>LP001006</td>\n",
       "      <td>Male</td>\n",
       "      <td>Yes</td>\n",
       "      <td>0</td>\n",
       "      <td>Not Graduate</td>\n",
       "      <td>No</td>\n",
       "      <td>2583</td>\n",
       "      <td>2358.0</td>\n",
       "      <td>120.0</td>\n",
       "      <td>360.0</td>\n",
       "      <td>1.0</td>\n",
       "      <td>Urban</td>\n",
       "      <td>Y</td>\n",
       "    </tr>\n",
       "    <tr>\n",
       "      <th>4</th>\n",
       "      <td>LP001008</td>\n",
       "      <td>Male</td>\n",
       "      <td>No</td>\n",
       "      <td>0</td>\n",
       "      <td>Graduate</td>\n",
       "      <td>No</td>\n",
       "      <td>6000</td>\n",
       "      <td>0.0</td>\n",
       "      <td>141.0</td>\n",
       "      <td>360.0</td>\n",
       "      <td>1.0</td>\n",
       "      <td>Urban</td>\n",
       "      <td>Y</td>\n",
       "    </tr>\n",
       "  </tbody>\n",
       "</table>\n",
       "</div>"
      ],
      "text/plain": [
       "    Loan_ID Gender Married Dependents     Education Self_Employed  \\\n",
       "0  LP001002   Male      No          0      Graduate            No   \n",
       "1  LP001003   Male     Yes          1      Graduate            No   \n",
       "2  LP001005   Male     Yes          0      Graduate           Yes   \n",
       "3  LP001006   Male     Yes          0  Not Graduate            No   \n",
       "4  LP001008   Male      No          0      Graduate            No   \n",
       "\n",
       "   ApplicantIncome  CoapplicantIncome  LoanAmount  Loan_Amount_Term  \\\n",
       "0             5849                0.0         NaN             360.0   \n",
       "1             4583             1508.0       128.0             360.0   \n",
       "2             3000                0.0        66.0             360.0   \n",
       "3             2583             2358.0       120.0             360.0   \n",
       "4             6000                0.0       141.0             360.0   \n",
       "\n",
       "   Credit_History Property_Area Loan_Status  \n",
       "0             1.0         Urban           Y  \n",
       "1             1.0         Rural           N  \n",
       "2             1.0         Urban           Y  \n",
       "3             1.0         Urban           Y  \n",
       "4             1.0         Urban           Y  "
      ]
     },
     "execution_count": 65,
     "metadata": {},
     "output_type": "execute_result"
    }
   ],
   "source": [
    "df=pd.read_csv(r\"C:\\Users\\dell\\Desktop\\Data Trained Projects\\Project 5\\loan_prediction.csv\")\n",
    "df.head()"
   ]
  },
  {
   "cell_type": "markdown",
   "id": "d05557df",
   "metadata": {},
   "source": [
    "#### Shape"
   ]
  },
  {
   "cell_type": "code",
   "execution_count": 3,
   "id": "02e091ce",
   "metadata": {
    "scrolled": true
   },
   "outputs": [
    {
     "data": {
      "text/plain": [
       "(614, 13)"
      ]
     },
     "execution_count": 3,
     "metadata": {},
     "output_type": "execute_result"
    }
   ],
   "source": [
    "df.shape"
   ]
  },
  {
   "cell_type": "markdown",
   "id": "aed2224b",
   "metadata": {},
   "source": [
    "Shape of the dataset is 614 rows x 13 columns"
   ]
  },
  {
   "cell_type": "markdown",
   "id": "0d65d45b",
   "metadata": {},
   "source": [
    "#### Check the concise summary of the dataframe"
   ]
  },
  {
   "cell_type": "code",
   "execution_count": 4,
   "id": "de003880",
   "metadata": {
    "scrolled": true
   },
   "outputs": [
    {
     "name": "stdout",
     "output_type": "stream",
     "text": [
      "<class 'pandas.core.frame.DataFrame'>\n",
      "RangeIndex: 614 entries, 0 to 613\n",
      "Data columns (total 13 columns):\n",
      " #   Column             Non-Null Count  Dtype  \n",
      "---  ------             --------------  -----  \n",
      " 0   Loan_ID            614 non-null    object \n",
      " 1   Gender             601 non-null    object \n",
      " 2   Married            611 non-null    object \n",
      " 3   Dependents         599 non-null    object \n",
      " 4   Education          614 non-null    object \n",
      " 5   Self_Employed      582 non-null    object \n",
      " 6   ApplicantIncome    614 non-null    int64  \n",
      " 7   CoapplicantIncome  614 non-null    float64\n",
      " 8   LoanAmount         592 non-null    float64\n",
      " 9   Loan_Amount_Term   600 non-null    float64\n",
      " 10  Credit_History     564 non-null    float64\n",
      " 11  Property_Area      614 non-null    object \n",
      " 12  Loan_Status        614 non-null    object \n",
      "dtypes: float64(4), int64(1), object(8)\n",
      "memory usage: 62.5+ KB\n"
     ]
    }
   ],
   "source": [
    "df.info()"
   ]
  },
  {
   "cell_type": "markdown",
   "id": "40ed996b",
   "metadata": {},
   "source": [
    "Observation:\n",
    "\n",
    "    * The dataset has 12 features which have 3 different datatypes:\n",
    "        1. float64 = 4 features\n",
    "        2. int64 = 1 feature\n",
    "        3. object = 7 feature\n",
    "        4. object = 1 label"
   ]
  },
  {
   "cell_type": "markdown",
   "id": "c26d3d4a",
   "metadata": {},
   "source": [
    "#### Check for null values"
   ]
  },
  {
   "cell_type": "code",
   "execution_count": 5,
   "id": "925636df",
   "metadata": {
    "scrolled": true
   },
   "outputs": [
    {
     "data": {
      "text/plain": [
       "Loan_ID               0\n",
       "Gender               13\n",
       "Married               3\n",
       "Dependents           15\n",
       "Education             0\n",
       "Self_Employed        32\n",
       "ApplicantIncome       0\n",
       "CoapplicantIncome     0\n",
       "LoanAmount           22\n",
       "Loan_Amount_Term     14\n",
       "Credit_History       50\n",
       "Property_Area         0\n",
       "Loan_Status           0\n",
       "dtype: int64"
      ]
     },
     "execution_count": 5,
     "metadata": {},
     "output_type": "execute_result"
    }
   ],
   "source": [
    "df.isnull().sum()"
   ]
  },
  {
   "cell_type": "markdown",
   "id": "50d037c6",
   "metadata": {},
   "source": [
    "There are null values present in some of the features."
   ]
  },
  {
   "cell_type": "markdown",
   "id": "edcc121f",
   "metadata": {},
   "source": [
    "#### Check for duplicate variables"
   ]
  },
  {
   "cell_type": "code",
   "execution_count": 6,
   "id": "cbf8e605",
   "metadata": {},
   "outputs": [
    {
     "data": {
      "text/plain": [
       "0"
      ]
     },
     "execution_count": 6,
     "metadata": {},
     "output_type": "execute_result"
    }
   ],
   "source": [
    "df.duplicated().sum().sum()"
   ]
  },
  {
   "cell_type": "markdown",
   "id": "000f9297",
   "metadata": {},
   "source": [
    "There are no duplicate variables in the dataset"
   ]
  },
  {
   "cell_type": "markdown",
   "id": "241bbd9d",
   "metadata": {},
   "source": [
    "#### Check the statistical summary of the dataframe"
   ]
  },
  {
   "cell_type": "code",
   "execution_count": 7,
   "id": "8f9a7d44",
   "metadata": {
    "scrolled": true
   },
   "outputs": [
    {
     "data": {
      "text/html": [
       "<div>\n",
       "<style scoped>\n",
       "    .dataframe tbody tr th:only-of-type {\n",
       "        vertical-align: middle;\n",
       "    }\n",
       "\n",
       "    .dataframe tbody tr th {\n",
       "        vertical-align: top;\n",
       "    }\n",
       "\n",
       "    .dataframe thead th {\n",
       "        text-align: right;\n",
       "    }\n",
       "</style>\n",
       "<table border=\"1\" class=\"dataframe\">\n",
       "  <thead>\n",
       "    <tr style=\"text-align: right;\">\n",
       "      <th></th>\n",
       "      <th>count</th>\n",
       "      <th>mean</th>\n",
       "      <th>std</th>\n",
       "      <th>min</th>\n",
       "      <th>25%</th>\n",
       "      <th>50%</th>\n",
       "      <th>75%</th>\n",
       "      <th>max</th>\n",
       "    </tr>\n",
       "  </thead>\n",
       "  <tbody>\n",
       "    <tr>\n",
       "      <th>ApplicantIncome</th>\n",
       "      <td>614.0</td>\n",
       "      <td>5403.459283</td>\n",
       "      <td>6109.041673</td>\n",
       "      <td>150.0</td>\n",
       "      <td>2877.5</td>\n",
       "      <td>3812.5</td>\n",
       "      <td>5795.00</td>\n",
       "      <td>81000.0</td>\n",
       "    </tr>\n",
       "    <tr>\n",
       "      <th>CoapplicantIncome</th>\n",
       "      <td>614.0</td>\n",
       "      <td>1621.245798</td>\n",
       "      <td>2926.248369</td>\n",
       "      <td>0.0</td>\n",
       "      <td>0.0</td>\n",
       "      <td>1188.5</td>\n",
       "      <td>2297.25</td>\n",
       "      <td>41667.0</td>\n",
       "    </tr>\n",
       "    <tr>\n",
       "      <th>LoanAmount</th>\n",
       "      <td>592.0</td>\n",
       "      <td>146.412162</td>\n",
       "      <td>85.587325</td>\n",
       "      <td>9.0</td>\n",
       "      <td>100.0</td>\n",
       "      <td>128.0</td>\n",
       "      <td>168.00</td>\n",
       "      <td>700.0</td>\n",
       "    </tr>\n",
       "    <tr>\n",
       "      <th>Loan_Amount_Term</th>\n",
       "      <td>600.0</td>\n",
       "      <td>342.000000</td>\n",
       "      <td>65.120410</td>\n",
       "      <td>12.0</td>\n",
       "      <td>360.0</td>\n",
       "      <td>360.0</td>\n",
       "      <td>360.00</td>\n",
       "      <td>480.0</td>\n",
       "    </tr>\n",
       "    <tr>\n",
       "      <th>Credit_History</th>\n",
       "      <td>564.0</td>\n",
       "      <td>0.842199</td>\n",
       "      <td>0.364878</td>\n",
       "      <td>0.0</td>\n",
       "      <td>1.0</td>\n",
       "      <td>1.0</td>\n",
       "      <td>1.00</td>\n",
       "      <td>1.0</td>\n",
       "    </tr>\n",
       "  </tbody>\n",
       "</table>\n",
       "</div>"
      ],
      "text/plain": [
       "                   count         mean          std    min     25%     50%  \\\n",
       "ApplicantIncome    614.0  5403.459283  6109.041673  150.0  2877.5  3812.5   \n",
       "CoapplicantIncome  614.0  1621.245798  2926.248369    0.0     0.0  1188.5   \n",
       "LoanAmount         592.0   146.412162    85.587325    9.0   100.0   128.0   \n",
       "Loan_Amount_Term   600.0   342.000000    65.120410   12.0   360.0   360.0   \n",
       "Credit_History     564.0     0.842199     0.364878    0.0     1.0     1.0   \n",
       "\n",
       "                       75%      max  \n",
       "ApplicantIncome    5795.00  81000.0  \n",
       "CoapplicantIncome  2297.25  41667.0  \n",
       "LoanAmount          168.00    700.0  \n",
       "Loan_Amount_Term    360.00    480.0  \n",
       "Credit_History        1.00      1.0  "
      ]
     },
     "execution_count": 7,
     "metadata": {},
     "output_type": "execute_result"
    }
   ],
   "source": [
    "df.describe().T"
   ]
  },
  {
   "cell_type": "markdown",
   "id": "5f93e386",
   "metadata": {},
   "source": [
    "As there are 5 numerical features, so its shows five statistical summary of the dataset. Here we can find the mean. standard deviation, minimum and maximum values and the Ist, IInd, IIIrd quantile of the features."
   ]
  },
  {
   "cell_type": "markdown",
   "id": "af42be0d",
   "metadata": {},
   "source": [
    "#### Check for uniquiness in feature columns"
   ]
  },
  {
   "cell_type": "code",
   "execution_count": 8,
   "id": "4c1b0c02",
   "metadata": {},
   "outputs": [
    {
     "data": {
      "text/plain": [
       "Loan_ID              614\n",
       "Gender                 2\n",
       "Married                2\n",
       "Dependents             4\n",
       "Education              2\n",
       "Self_Employed          2\n",
       "ApplicantIncome      505\n",
       "CoapplicantIncome    287\n",
       "LoanAmount           203\n",
       "Loan_Amount_Term      10\n",
       "Credit_History         2\n",
       "Property_Area          3\n",
       "Loan_Status            2\n",
       "dtype: int64"
      ]
     },
     "execution_count": 8,
     "metadata": {},
     "output_type": "execute_result"
    }
   ],
   "source": [
    "df.nunique()"
   ]
  },
  {
   "cell_type": "markdown",
   "id": "bdf776b1",
   "metadata": {},
   "source": [
    "# Data Pre-processing"
   ]
  },
  {
   "cell_type": "code",
   "execution_count": 9,
   "id": "def407bc",
   "metadata": {
    "scrolled": true
   },
   "outputs": [
    {
     "data": {
      "text/plain": [
       "array(['Zero', 'One', 'Two', 'More_then_2', nan], dtype=object)"
      ]
     },
     "execution_count": 9,
     "metadata": {},
     "output_type": "execute_result"
    }
   ],
   "source": [
    "df['Education'] = df['Education'].replace('Not Graduate', 'Not_Graduate')\n",
    "df.Education.unique()\n",
    "df['Dependents'] = df['Dependents'].replace('3+', 'More_then_2')\n",
    "df['Dependents'] = df['Dependents'].replace('2', 'Two')\n",
    "df['Dependents'] = df['Dependents'].replace('1', 'One')\n",
    "df['Dependents'] = df['Dependents'].replace('0', 'Zero')\n",
    "df.Dependents.unique()"
   ]
  },
  {
   "cell_type": "markdown",
   "id": "cbe0e5ca",
   "metadata": {},
   "source": [
    "In feature - 'Education' and 'Dependents', changing one of the class name for easy handling. "
   ]
  },
  {
   "cell_type": "markdown",
   "id": "6f5ae7fa",
   "metadata": {},
   "source": [
    "#### Treating the missing values, and coding the classes into numbers."
   ]
  },
  {
   "cell_type": "code",
   "execution_count": 10,
   "id": "62e3d42e",
   "metadata": {},
   "outputs": [],
   "source": [
    "def data_pipeline(df):\n",
    "    df[\"Gender\"].fillna(df[\"Gender\"].mode()[0], inplace=True)\n",
    "    df.Gender.replace(to_replace=dict(Female=1, Male=0), inplace=True)\n",
    "    df[\"Married\"].fillna(df[\"Married\"].mode()[0], inplace=True)\n",
    "    df.Married.replace(to_replace=dict(Yes=1, No=0), inplace=True)\n",
    "    df[\"Dependents\"].fillna(df[\"Dependents\"].mode()[0], inplace=True)\n",
    "    df.Dependents.replace(to_replace=dict(Zero=0, One=1, Two=2, More_then_2=3), inplace=True)\n",
    "    df.Education.replace(to_replace=dict(Not_Graduate=0, Graduate=1), inplace=True)\n",
    "    df[\"Self_Employed\"].fillna(df[\"Self_Employed\"].mode()[0], inplace=True)\n",
    "    df.Self_Employed.replace(to_replace=dict(Yes=1, No=0), inplace=True)\n",
    "    df[\"LoanAmount\"].fillna(df[\"LoanAmount\"].mean(), inplace=True)\n",
    "    df[\"Loan_Amount_Term\"].fillna(df[\"Loan_Amount_Term\"].mode()[0], inplace=True)\n",
    "    df[\"Credit_History\"].fillna(df[\"Credit_History\"].mode()[0], inplace=True)\n",
    "    df.Property_Area.replace(to_replace=dict(Urban=0, Rural=1, Semiurban=2), inplace=True)\n",
    "    df.Loan_Status.replace(to_replace=dict(Y=1, N=0), inplace=True)\n",
    "    df=df.drop([\"Loan_ID\"], axis=1)\n",
    "    return df"
   ]
  },
  {
   "cell_type": "code",
   "execution_count": 11,
   "id": "b60ae389",
   "metadata": {},
   "outputs": [],
   "source": [
    "df = data_pipeline(df)"
   ]
  },
  {
   "cell_type": "code",
   "execution_count": 12,
   "id": "31fb04c3",
   "metadata": {},
   "outputs": [
    {
     "data": {
      "text/html": [
       "<div>\n",
       "<style scoped>\n",
       "    .dataframe tbody tr th:only-of-type {\n",
       "        vertical-align: middle;\n",
       "    }\n",
       "\n",
       "    .dataframe tbody tr th {\n",
       "        vertical-align: top;\n",
       "    }\n",
       "\n",
       "    .dataframe thead th {\n",
       "        text-align: right;\n",
       "    }\n",
       "</style>\n",
       "<table border=\"1\" class=\"dataframe\">\n",
       "  <thead>\n",
       "    <tr style=\"text-align: right;\">\n",
       "      <th></th>\n",
       "      <th>Gender</th>\n",
       "      <th>Married</th>\n",
       "      <th>Dependents</th>\n",
       "      <th>Education</th>\n",
       "      <th>Self_Employed</th>\n",
       "      <th>ApplicantIncome</th>\n",
       "      <th>CoapplicantIncome</th>\n",
       "      <th>LoanAmount</th>\n",
       "      <th>Loan_Amount_Term</th>\n",
       "      <th>Credit_History</th>\n",
       "      <th>Property_Area</th>\n",
       "      <th>Loan_Status</th>\n",
       "    </tr>\n",
       "  </thead>\n",
       "  <tbody>\n",
       "    <tr>\n",
       "      <th>0</th>\n",
       "      <td>0</td>\n",
       "      <td>0</td>\n",
       "      <td>0</td>\n",
       "      <td>1</td>\n",
       "      <td>0</td>\n",
       "      <td>5849</td>\n",
       "      <td>0.0</td>\n",
       "      <td>146.412162</td>\n",
       "      <td>360.0</td>\n",
       "      <td>1.0</td>\n",
       "      <td>0</td>\n",
       "      <td>1</td>\n",
       "    </tr>\n",
       "    <tr>\n",
       "      <th>1</th>\n",
       "      <td>0</td>\n",
       "      <td>1</td>\n",
       "      <td>1</td>\n",
       "      <td>1</td>\n",
       "      <td>0</td>\n",
       "      <td>4583</td>\n",
       "      <td>1508.0</td>\n",
       "      <td>128.000000</td>\n",
       "      <td>360.0</td>\n",
       "      <td>1.0</td>\n",
       "      <td>1</td>\n",
       "      <td>0</td>\n",
       "    </tr>\n",
       "    <tr>\n",
       "      <th>2</th>\n",
       "      <td>0</td>\n",
       "      <td>1</td>\n",
       "      <td>0</td>\n",
       "      <td>1</td>\n",
       "      <td>1</td>\n",
       "      <td>3000</td>\n",
       "      <td>0.0</td>\n",
       "      <td>66.000000</td>\n",
       "      <td>360.0</td>\n",
       "      <td>1.0</td>\n",
       "      <td>0</td>\n",
       "      <td>1</td>\n",
       "    </tr>\n",
       "    <tr>\n",
       "      <th>3</th>\n",
       "      <td>0</td>\n",
       "      <td>1</td>\n",
       "      <td>0</td>\n",
       "      <td>0</td>\n",
       "      <td>0</td>\n",
       "      <td>2583</td>\n",
       "      <td>2358.0</td>\n",
       "      <td>120.000000</td>\n",
       "      <td>360.0</td>\n",
       "      <td>1.0</td>\n",
       "      <td>0</td>\n",
       "      <td>1</td>\n",
       "    </tr>\n",
       "    <tr>\n",
       "      <th>4</th>\n",
       "      <td>0</td>\n",
       "      <td>0</td>\n",
       "      <td>0</td>\n",
       "      <td>1</td>\n",
       "      <td>0</td>\n",
       "      <td>6000</td>\n",
       "      <td>0.0</td>\n",
       "      <td>141.000000</td>\n",
       "      <td>360.0</td>\n",
       "      <td>1.0</td>\n",
       "      <td>0</td>\n",
       "      <td>1</td>\n",
       "    </tr>\n",
       "  </tbody>\n",
       "</table>\n",
       "</div>"
      ],
      "text/plain": [
       "   Gender  Married  Dependents  Education  Self_Employed  ApplicantIncome  \\\n",
       "0       0        0           0          1              0             5849   \n",
       "1       0        1           1          1              0             4583   \n",
       "2       0        1           0          1              1             3000   \n",
       "3       0        1           0          0              0             2583   \n",
       "4       0        0           0          1              0             6000   \n",
       "\n",
       "   CoapplicantIncome  LoanAmount  Loan_Amount_Term  Credit_History  \\\n",
       "0                0.0  146.412162             360.0             1.0   \n",
       "1             1508.0  128.000000             360.0             1.0   \n",
       "2                0.0   66.000000             360.0             1.0   \n",
       "3             2358.0  120.000000             360.0             1.0   \n",
       "4                0.0  141.000000             360.0             1.0   \n",
       "\n",
       "   Property_Area  Loan_Status  \n",
       "0              0            1  \n",
       "1              1            0  \n",
       "2              0            1  \n",
       "3              0            1  \n",
       "4              0            1  "
      ]
     },
     "execution_count": 12,
     "metadata": {},
     "output_type": "execute_result"
    }
   ],
   "source": [
    "df.head()"
   ]
  },
  {
   "cell_type": "markdown",
   "id": "cfe51cfe",
   "metadata": {},
   "source": [
    "Here, we have seen treated:\n",
    "\n",
    "    * Filled the null values of 'Gender' by mode. EnCoded Female = 1, Male = 0\n",
    "    * Filled the null values of 'Married' by mode. Encoded Yes = 1, No = 0\n",
    "    * Filled the null values of 'Dependents' by mode.\n",
    "    * In Feature 'Education', encoded Not_Graduate = 0, Graduate = 1\n",
    "    * Filled the null values of 'Self_Employed' by mode. Encoded Yes = 1, No = 0\n",
    "    * Filled the null values of 'LoanAmount' by mean.\n",
    "    * Filled the null values of 'Loan_Amount_Term' by mode.\n",
    "    * Filled the null values of 'Credit_History' by mode.\n",
    "    * In Feature 'Property_Area', encoded Urban=0, Rural=1, Semiurban=2\n",
    "    * In feature 'Loan_Status', encoded Y=1, N=0\n",
    "    * Dropped the column 'Loan_ID', which have no such correlation with 'Loan_Status'"
   ]
  },
  {
   "cell_type": "markdown",
   "id": "42f9567b",
   "metadata": {},
   "source": [
    "# Data Interpretation and Visualization"
   ]
  },
  {
   "cell_type": "code",
   "execution_count": 13,
   "id": "cbce407f",
   "metadata": {
    "scrolled": true
   },
   "outputs": [
    {
     "data": {
      "image/png": "[encoded data removed]",
      "text/plain": [
       "<Figure size 432x288 with 1 Axes>"
      ]
     },
     "metadata": {
      "needs_background": "light"
     },
     "output_type": "display_data"
    }
   ],
   "source": [
    "sns.countplot(x='Gender', data=df)\n",
    "plt.show()"
   ]
  },
  {
   "cell_type": "markdown",
   "id": "f09bd07f",
   "metadata": {},
   "source": [
    "Shows the number of males and female"
   ]
  },
  {
   "cell_type": "code",
   "execution_count": 14,
   "id": "1c020607",
   "metadata": {
    "scrolled": false
   },
   "outputs": [
    {
     "data": {
      "image/png": "[encoded data removed]",
      "text/plain": [
       "<Figure size 432x288 with 1 Axes>"
      ]
     },
     "metadata": {
      "needs_background": "light"
     },
     "output_type": "display_data"
    }
   ],
   "source": [
    "sns.barplot(x='Gender', y='Loan_Status', data=df)\n",
    "plt.show()"
   ]
  },
  {
   "cell_type": "markdown",
   "id": "74dd9349",
   "metadata": {},
   "source": [
    "THis graph shows the relationship between Loan_Status and Gender"
   ]
  },
  {
   "cell_type": "code",
   "execution_count": 15,
   "id": "df5c9049",
   "metadata": {},
   "outputs": [
    {
     "data": {
      "image/png": "[encoded data removed]",
      "text/plain": [
       "<Figure size 432x288 with 1 Axes>"
      ]
     },
     "metadata": {
      "needs_background": "light"
     },
     "output_type": "display_data"
    }
   ],
   "source": [
    "sns.barplot(x='Married', y='Loan_Status', data=df)\n",
    "plt.show()"
   ]
  },
  {
   "cell_type": "markdown",
   "id": "96a39d97",
   "metadata": {},
   "source": [
    "THis shows that those who are married, have got more positive Loan Status"
   ]
  },
  {
   "cell_type": "code",
   "execution_count": 16,
   "id": "db291270",
   "metadata": {
    "scrolled": false
   },
   "outputs": [
    {
     "data": {
      "image/png": "[encoded data removed]",
      "text/plain": [
       "<Figure size 432x288 with 1 Axes>"
      ]
     },
     "metadata": {
      "needs_background": "light"
     },
     "output_type": "display_data"
    }
   ],
   "source": [
    "sns.countplot(x='Married', data=df)\n",
    "plt.show()"
   ]
  },
  {
   "cell_type": "markdown",
   "id": "7c073994",
   "metadata": {},
   "source": [
    "This graph shows the number of married(1) and unmarried(0) person."
   ]
  },
  {
   "cell_type": "code",
   "execution_count": 17,
   "id": "97fa9aaa",
   "metadata": {
    "scrolled": false
   },
   "outputs": [
    {
     "data": {
      "image/png": "[encoded data removed]",
      "text/plain": [
       "<Figure size 432x288 with 1 Axes>"
      ]
     },
     "metadata": {
      "needs_background": "light"
     },
     "output_type": "display_data"
    }
   ],
   "source": [
    "sns.scatterplot(x='Dependents', y='Loan_Status', data=df)\n",
    "plt.show()"
   ]
  },
  {
   "cell_type": "markdown",
   "id": "a5e1547f",
   "metadata": {},
   "source": [
    "The above graph shows the direction of relationship betweet the variables."
   ]
  },
  {
   "cell_type": "code",
   "execution_count": 18,
   "id": "570429ed",
   "metadata": {},
   "outputs": [
    {
     "data": {
      "image/png": "[encoded data removed]",
      "text/plain": [
       "<Figure size 432x288 with 1 Axes>"
      ]
     },
     "metadata": {
      "needs_background": "light"
     },
     "output_type": "display_data"
    }
   ],
   "source": [
    "sns.countplot(x='Dependents', data=df)\n",
    "plt.show()"
   ]
  },
  {
   "cell_type": "markdown",
   "id": "58c09e76",
   "metadata": {},
   "source": [
    "THe above shows the count of each class of the Dependent feature."
   ]
  },
  {
   "cell_type": "code",
   "execution_count": 19,
   "id": "ce577b3e",
   "metadata": {
    "scrolled": true
   },
   "outputs": [
    {
     "data": {
      "image/png": "[encoded data removed]",
      "text/plain": [
       "<Figure size 432x288 with 1 Axes>"
      ]
     },
     "metadata": {
      "needs_background": "light"
     },
     "output_type": "display_data"
    }
   ],
   "source": [
    "sns.countplot(x='Education', data=df)\n",
    "plt.show()"
   ]
  },
  {
   "cell_type": "markdown",
   "id": "067b036e",
   "metadata": {},
   "source": [
    "The above shows the number of educated person and uneducated person."
   ]
  },
  {
   "cell_type": "code",
   "execution_count": 20,
   "id": "2af5f7c1",
   "metadata": {
    "scrolled": true
   },
   "outputs": [
    {
     "data": {
      "image/png": "[encoded data removed]",
      "text/plain": [
       "<Figure size 432x288 with 1 Axes>"
      ]
     },
     "metadata": {
      "needs_background": "light"
     },
     "output_type": "display_data"
    }
   ],
   "source": [
    "sns.countplot(x='Self_Employed', data=df)\n",
    "plt.show()"
   ]
  },
  {
   "cell_type": "markdown",
   "id": "b49b47cc",
   "metadata": {},
   "source": [
    "This shows the count of self-employed(1) and not- self employed(0)"
   ]
  },
  {
   "cell_type": "code",
   "execution_count": 21,
   "id": "0f98164b",
   "metadata": {
    "scrolled": false
   },
   "outputs": [
    {
     "data": {
      "image/png": "[encoded data removed]",
      "text/plain": [
       "<Figure size 432x288 with 1 Axes>"
      ]
     },
     "metadata": {
      "needs_background": "light"
     },
     "output_type": "display_data"
    }
   ],
   "source": [
    "sns.scatterplot(y='ApplicantIncome', x='Loan_Status', data=df)\n",
    "plt.show()"
   ]
  },
  {
   "cell_type": "markdown",
   "id": "44499cbf",
   "metadata": {},
   "source": [
    "This above plot shows people's income and whether the get loan or not."
   ]
  },
  {
   "cell_type": "code",
   "execution_count": 22,
   "id": "7caba8df",
   "metadata": {
    "scrolled": false
   },
   "outputs": [
    {
     "data": {
      "image/png": "[encoded data removed]",
      "text/plain": [
       "<Figure size 432x288 with 1 Axes>"
      ]
     },
     "metadata": {
      "needs_background": "light"
     },
     "output_type": "display_data"
    }
   ],
   "source": [
    "sns.scatterplot(y='CoapplicantIncome', x='Loan_Status', data=df)\n",
    "plt.show()"
   ]
  },
  {
   "cell_type": "markdown",
   "id": "17a8acca",
   "metadata": {},
   "source": [
    "This above plot shows coapplicant's income and whether it helps the applicant to get loan or not."
   ]
  },
  {
   "cell_type": "code",
   "execution_count": 23,
   "id": "dc612e18",
   "metadata": {},
   "outputs": [
    {
     "data": {
      "image/png": "[encoded data removed]",
      "text/plain": [
       "<Figure size 432x288 with 1 Axes>"
      ]
     },
     "metadata": {
      "needs_background": "light"
     },
     "output_type": "display_data"
    }
   ],
   "source": [
    "sns.scatterplot(y='LoanAmount', x='Loan_Status', data=df)\n",
    "plt.show()"
   ]
  },
  {
   "cell_type": "markdown",
   "id": "49b2644f",
   "metadata": {},
   "source": [
    "The above shows the relation between LoanAmount and Loan_status"
   ]
  },
  {
   "cell_type": "code",
   "execution_count": 24,
   "id": "618a64a5",
   "metadata": {
    "scrolled": true
   },
   "outputs": [
    {
     "data": {
      "image/png": "[encoded data removed]",
      "text/plain": [
       "<Figure size 432x288 with 1 Axes>"
      ]
     },
     "metadata": {
      "needs_background": "light"
     },
     "output_type": "display_data"
    }
   ],
   "source": [
    "sns.scatterplot(y='Loan_Amount_Term', x='Loan_Status', data=df)\n",
    "plt.show()"
   ]
  },
  {
   "cell_type": "markdown",
   "id": "7680956d",
   "metadata": {},
   "source": [
    "THe above shows the relation between Loan_Amount_Term and Loan_status"
   ]
  },
  {
   "cell_type": "code",
   "execution_count": 25,
   "id": "becf546a",
   "metadata": {
    "scrolled": true
   },
   "outputs": [
    {
     "data": {
      "image/png": "[encoded data removed]",
      "text/plain": [
       "<Figure size 432x288 with 1 Axes>"
      ]
     },
     "metadata": {
      "needs_background": "light"
     },
     "output_type": "display_data"
    }
   ],
   "source": [
    "sns.countplot(x='Credit_History', data=df)\n",
    "plt.show()"
   ]
  },
  {
   "cell_type": "markdown",
   "id": "9fddd940",
   "metadata": {},
   "source": [
    "This shows the number of credit_history or not of the applicants."
   ]
  },
  {
   "cell_type": "code",
   "execution_count": 26,
   "id": "fce3b4c5",
   "metadata": {
    "scrolled": false
   },
   "outputs": [
    {
     "data": {
      "image/png": "[encoded data removed]",
      "text/plain": [
       "<Figure size 432x288 with 1 Axes>"
      ]
     },
     "metadata": {
      "needs_background": "light"
     },
     "output_type": "display_data"
    }
   ],
   "source": [
    "sns.countplot(x='Property_Area', data=df)\n",
    "plt.show()"
   ]
  },
  {
   "cell_type": "markdown",
   "id": "904b60a1",
   "metadata": {},
   "source": [
    "This is the count plot between the applicants living in Urban=0, Rural=1, Semiurban=2 area."
   ]
  },
  {
   "cell_type": "markdown",
   "id": "32725763",
   "metadata": {},
   "source": [
    "# Correlation"
   ]
  },
  {
   "cell_type": "markdown",
   "id": "79b05152",
   "metadata": {},
   "source": [
    "Lets check the correlation of the features with the Label- Loan_status"
   ]
  },
  {
   "cell_type": "code",
   "execution_count": 27,
   "id": "682efdc1",
   "metadata": {},
   "outputs": [
    {
     "data": {
      "text/html": [
       "<div>\n",
       "<style scoped>\n",
       "    .dataframe tbody tr th:only-of-type {\n",
       "        vertical-align: middle;\n",
       "    }\n",
       "\n",
       "    .dataframe tbody tr th {\n",
       "        vertical-align: top;\n",
       "    }\n",
       "\n",
       "    .dataframe thead th {\n",
       "        text-align: right;\n",
       "    }\n",
       "</style>\n",
       "<table border=\"1\" class=\"dataframe\">\n",
       "  <thead>\n",
       "    <tr style=\"text-align: right;\">\n",
       "      <th></th>\n",
       "      <th>Gender</th>\n",
       "      <th>Married</th>\n",
       "      <th>Dependents</th>\n",
       "      <th>Education</th>\n",
       "      <th>Self_Employed</th>\n",
       "      <th>ApplicantIncome</th>\n",
       "      <th>CoapplicantIncome</th>\n",
       "      <th>LoanAmount</th>\n",
       "      <th>Loan_Amount_Term</th>\n",
       "      <th>Credit_History</th>\n",
       "      <th>Property_Area</th>\n",
       "      <th>Loan_Status</th>\n",
       "    </tr>\n",
       "  </thead>\n",
       "  <tbody>\n",
       "    <tr>\n",
       "      <th>Gender</th>\n",
       "      <td>1.000000</td>\n",
       "      <td>-0.364569</td>\n",
       "      <td>-0.172914</td>\n",
       "      <td>0.045364</td>\n",
       "      <td>0.000525</td>\n",
       "      <td>-0.058809</td>\n",
       "      <td>-0.082912</td>\n",
       "      <td>-0.107930</td>\n",
       "      <td>0.074030</td>\n",
       "      <td>-0.009170</td>\n",
       "      <td>0.082045</td>\n",
       "      <td>-0.017987</td>\n",
       "    </tr>\n",
       "    <tr>\n",
       "      <th>Married</th>\n",
       "      <td>-0.364569</td>\n",
       "      <td>1.000000</td>\n",
       "      <td>0.334216</td>\n",
       "      <td>-0.012304</td>\n",
       "      <td>0.004489</td>\n",
       "      <td>0.051708</td>\n",
       "      <td>0.075948</td>\n",
       "      <td>0.147141</td>\n",
       "      <td>-0.100912</td>\n",
       "      <td>0.010938</td>\n",
       "      <td>0.003071</td>\n",
       "      <td>0.091478</td>\n",
       "    </tr>\n",
       "    <tr>\n",
       "      <th>Dependents</th>\n",
       "      <td>-0.172914</td>\n",
       "      <td>0.334216</td>\n",
       "      <td>1.000000</td>\n",
       "      <td>-0.055752</td>\n",
       "      <td>0.056798</td>\n",
       "      <td>0.118202</td>\n",
       "      <td>0.030430</td>\n",
       "      <td>0.163106</td>\n",
       "      <td>-0.103864</td>\n",
       "      <td>-0.040160</td>\n",
       "      <td>0.001781</td>\n",
       "      <td>0.010118</td>\n",
       "    </tr>\n",
       "    <tr>\n",
       "      <th>Education</th>\n",
       "      <td>0.045364</td>\n",
       "      <td>-0.012304</td>\n",
       "      <td>-0.055752</td>\n",
       "      <td>1.000000</td>\n",
       "      <td>0.010383</td>\n",
       "      <td>0.140760</td>\n",
       "      <td>0.062290</td>\n",
       "      <td>0.166998</td>\n",
       "      <td>0.073928</td>\n",
       "      <td>0.073658</td>\n",
       "      <td>0.003592</td>\n",
       "      <td>0.085884</td>\n",
       "    </tr>\n",
       "    <tr>\n",
       "      <th>Self_Employed</th>\n",
       "      <td>0.000525</td>\n",
       "      <td>0.004489</td>\n",
       "      <td>0.056798</td>\n",
       "      <td>0.010383</td>\n",
       "      <td>1.000000</td>\n",
       "      <td>0.127180</td>\n",
       "      <td>-0.016100</td>\n",
       "      <td>0.115260</td>\n",
       "      <td>-0.033739</td>\n",
       "      <td>-0.001550</td>\n",
       "      <td>0.021996</td>\n",
       "      <td>-0.003700</td>\n",
       "    </tr>\n",
       "    <tr>\n",
       "      <th>ApplicantIncome</th>\n",
       "      <td>-0.058809</td>\n",
       "      <td>0.051708</td>\n",
       "      <td>0.118202</td>\n",
       "      <td>0.140760</td>\n",
       "      <td>0.127180</td>\n",
       "      <td>1.000000</td>\n",
       "      <td>-0.116605</td>\n",
       "      <td>0.565620</td>\n",
       "      <td>-0.046531</td>\n",
       "      <td>-0.018615</td>\n",
       "      <td>-0.007894</td>\n",
       "      <td>-0.004710</td>\n",
       "    </tr>\n",
       "    <tr>\n",
       "      <th>CoapplicantIncome</th>\n",
       "      <td>-0.082912</td>\n",
       "      <td>0.075948</td>\n",
       "      <td>0.030430</td>\n",
       "      <td>0.062290</td>\n",
       "      <td>-0.016100</td>\n",
       "      <td>-0.116605</td>\n",
       "      <td>1.000000</td>\n",
       "      <td>0.187828</td>\n",
       "      <td>-0.059383</td>\n",
       "      <td>0.011134</td>\n",
       "      <td>-0.028356</td>\n",
       "      <td>-0.059187</td>\n",
       "    </tr>\n",
       "    <tr>\n",
       "      <th>LoanAmount</th>\n",
       "      <td>-0.107930</td>\n",
       "      <td>0.147141</td>\n",
       "      <td>0.163106</td>\n",
       "      <td>0.166998</td>\n",
       "      <td>0.115260</td>\n",
       "      <td>0.565620</td>\n",
       "      <td>0.187828</td>\n",
       "      <td>1.000000</td>\n",
       "      <td>0.036475</td>\n",
       "      <td>-0.001431</td>\n",
       "      <td>0.013799</td>\n",
       "      <td>-0.036416</td>\n",
       "    </tr>\n",
       "    <tr>\n",
       "      <th>Loan_Amount_Term</th>\n",
       "      <td>0.074030</td>\n",
       "      <td>-0.100912</td>\n",
       "      <td>-0.103864</td>\n",
       "      <td>0.073928</td>\n",
       "      <td>-0.033739</td>\n",
       "      <td>-0.046531</td>\n",
       "      <td>-0.059383</td>\n",
       "      <td>0.036475</td>\n",
       "      <td>1.000000</td>\n",
       "      <td>-0.004705</td>\n",
       "      <td>0.086879</td>\n",
       "      <td>-0.022549</td>\n",
       "    </tr>\n",
       "    <tr>\n",
       "      <th>Credit_History</th>\n",
       "      <td>-0.009170</td>\n",
       "      <td>0.010938</td>\n",
       "      <td>-0.040160</td>\n",
       "      <td>0.073658</td>\n",
       "      <td>-0.001550</td>\n",
       "      <td>-0.018615</td>\n",
       "      <td>0.011134</td>\n",
       "      <td>-0.001431</td>\n",
       "      <td>-0.004705</td>\n",
       "      <td>1.000000</td>\n",
       "      <td>0.030248</td>\n",
       "      <td>0.540556</td>\n",
       "    </tr>\n",
       "    <tr>\n",
       "      <th>Property_Area</th>\n",
       "      <td>0.082045</td>\n",
       "      <td>0.003071</td>\n",
       "      <td>0.001781</td>\n",
       "      <td>0.003592</td>\n",
       "      <td>0.021996</td>\n",
       "      <td>-0.007894</td>\n",
       "      <td>-0.028356</td>\n",
       "      <td>0.013799</td>\n",
       "      <td>0.086879</td>\n",
       "      <td>0.030248</td>\n",
       "      <td>1.000000</td>\n",
       "      <td>0.103253</td>\n",
       "    </tr>\n",
       "    <tr>\n",
       "      <th>Loan_Status</th>\n",
       "      <td>-0.017987</td>\n",
       "      <td>0.091478</td>\n",
       "      <td>0.010118</td>\n",
       "      <td>0.085884</td>\n",
       "      <td>-0.003700</td>\n",
       "      <td>-0.004710</td>\n",
       "      <td>-0.059187</td>\n",
       "      <td>-0.036416</td>\n",
       "      <td>-0.022549</td>\n",
       "      <td>0.540556</td>\n",
       "      <td>0.103253</td>\n",
       "      <td>1.000000</td>\n",
       "    </tr>\n",
       "  </tbody>\n",
       "</table>\n",
       "</div>"
      ],
      "text/plain": [
       "                     Gender   Married  Dependents  Education  Self_Employed  \\\n",
       "Gender             1.000000 -0.364569   -0.172914   0.045364       0.000525   \n",
       "Married           -0.364569  1.000000    0.334216  -0.012304       0.004489   \n",
       "Dependents        -0.172914  0.334216    1.000000  -0.055752       0.056798   \n",
       "Education          0.045364 -0.012304   -0.055752   1.000000       0.010383   \n",
       "Self_Employed      0.000525  0.004489    0.056798   0.010383       1.000000   \n",
       "ApplicantIncome   -0.058809  0.051708    0.118202   0.140760       0.127180   \n",
       "CoapplicantIncome -0.082912  0.075948    0.030430   0.062290      -0.016100   \n",
       "LoanAmount        -0.107930  0.147141    0.163106   0.166998       0.115260   \n",
       "Loan_Amount_Term   0.074030 -0.100912   -0.103864   0.073928      -0.033739   \n",
       "Credit_History    -0.009170  0.010938   -0.040160   0.073658      -0.001550   \n",
       "Property_Area      0.082045  0.003071    0.001781   0.003592       0.021996   \n",
       "Loan_Status       -0.017987  0.091478    0.010118   0.085884      -0.003700   \n",
       "\n",
       "                   ApplicantIncome  CoapplicantIncome  LoanAmount  \\\n",
       "Gender                   -0.058809          -0.082912   -0.107930   \n",
       "Married                   0.051708           0.075948    0.147141   \n",
       "Dependents                0.118202           0.030430    0.163106   \n",
       "Education                 0.140760           0.062290    0.166998   \n",
       "Self_Employed             0.127180          -0.016100    0.115260   \n",
       "ApplicantIncome           1.000000          -0.116605    0.565620   \n",
       "CoapplicantIncome        -0.116605           1.000000    0.187828   \n",
       "LoanAmount                0.565620           0.187828    1.000000   \n",
       "Loan_Amount_Term         -0.046531          -0.059383    0.036475   \n",
       "Credit_History           -0.018615           0.011134   -0.001431   \n",
       "Property_Area            -0.007894          -0.028356    0.013799   \n",
       "Loan_Status              -0.004710          -0.059187   -0.036416   \n",
       "\n",
       "                   Loan_Amount_Term  Credit_History  Property_Area  \\\n",
       "Gender                     0.074030       -0.009170       0.082045   \n",
       "Married                   -0.100912        0.010938       0.003071   \n",
       "Dependents                -0.103864       -0.040160       0.001781   \n",
       "Education                  0.073928        0.073658       0.003592   \n",
       "Self_Employed             -0.033739       -0.001550       0.021996   \n",
       "ApplicantIncome           -0.046531       -0.018615      -0.007894   \n",
       "CoapplicantIncome         -0.059383        0.011134      -0.028356   \n",
       "LoanAmount                 0.036475       -0.001431       0.013799   \n",
       "Loan_Amount_Term           1.000000       -0.004705       0.086879   \n",
       "Credit_History            -0.004705        1.000000       0.030248   \n",
       "Property_Area              0.086879        0.030248       1.000000   \n",
       "Loan_Status               -0.022549        0.540556       0.103253   \n",
       "\n",
       "                   Loan_Status  \n",
       "Gender               -0.017987  \n",
       "Married               0.091478  \n",
       "Dependents            0.010118  \n",
       "Education             0.085884  \n",
       "Self_Employed        -0.003700  \n",
       "ApplicantIncome      -0.004710  \n",
       "CoapplicantIncome    -0.059187  \n",
       "LoanAmount           -0.036416  \n",
       "Loan_Amount_Term     -0.022549  \n",
       "Credit_History        0.540556  \n",
       "Property_Area         0.103253  \n",
       "Loan_Status           1.000000  "
      ]
     },
     "execution_count": 27,
     "metadata": {},
     "output_type": "execute_result"
    }
   ],
   "source": [
    "df.corr()"
   ]
  },
  {
   "cell_type": "code",
   "execution_count": 28,
   "id": "f569d262",
   "metadata": {},
   "outputs": [
    {
     "data": {
      "text/plain": [
       "CoapplicantIncome   -0.059187\n",
       "LoanAmount          -0.036416\n",
       "Loan_Amount_Term    -0.022549\n",
       "Gender              -0.017987\n",
       "ApplicantIncome     -0.004710\n",
       "Self_Employed       -0.003700\n",
       "Dependents           0.010118\n",
       "Education            0.085884\n",
       "Married              0.091478\n",
       "Property_Area        0.103253\n",
       "Credit_History       0.540556\n",
       "Loan_Status          1.000000\n",
       "Name: Loan_Status, dtype: float64"
      ]
     },
     "execution_count": 28,
     "metadata": {},
     "output_type": "execute_result"
    }
   ],
   "source": [
    "df.corr()['Loan_Status'].sort_values()"
   ]
  },
  {
   "cell_type": "markdown",
   "id": "9aca6d93",
   "metadata": {},
   "source": [
    "Since Gender, ApplicantIncome and Self_Employed have minor or very less correlation with loan income, lets drop it."
   ]
  },
  {
   "cell_type": "code",
   "execution_count": 29,
   "id": "8467ea3b",
   "metadata": {},
   "outputs": [
    {
     "data": {
      "text/html": [
       "<div>\n",
       "<style scoped>\n",
       "    .dataframe tbody tr th:only-of-type {\n",
       "        vertical-align: middle;\n",
       "    }\n",
       "\n",
       "    .dataframe tbody tr th {\n",
       "        vertical-align: top;\n",
       "    }\n",
       "\n",
       "    .dataframe thead th {\n",
       "        text-align: right;\n",
       "    }\n",
       "</style>\n",
       "<table border=\"1\" class=\"dataframe\">\n",
       "  <thead>\n",
       "    <tr style=\"text-align: right;\">\n",
       "      <th></th>\n",
       "      <th>Married</th>\n",
       "      <th>Dependents</th>\n",
       "      <th>Education</th>\n",
       "      <th>CoapplicantIncome</th>\n",
       "      <th>LoanAmount</th>\n",
       "      <th>Loan_Amount_Term</th>\n",
       "      <th>Credit_History</th>\n",
       "      <th>Property_Area</th>\n",
       "      <th>Loan_Status</th>\n",
       "    </tr>\n",
       "  </thead>\n",
       "  <tbody>\n",
       "    <tr>\n",
       "      <th>0</th>\n",
       "      <td>0</td>\n",
       "      <td>0</td>\n",
       "      <td>1</td>\n",
       "      <td>0.0</td>\n",
       "      <td>146.412162</td>\n",
       "      <td>360.0</td>\n",
       "      <td>1.0</td>\n",
       "      <td>0</td>\n",
       "      <td>1</td>\n",
       "    </tr>\n",
       "    <tr>\n",
       "      <th>1</th>\n",
       "      <td>1</td>\n",
       "      <td>1</td>\n",
       "      <td>1</td>\n",
       "      <td>1508.0</td>\n",
       "      <td>128.000000</td>\n",
       "      <td>360.0</td>\n",
       "      <td>1.0</td>\n",
       "      <td>1</td>\n",
       "      <td>0</td>\n",
       "    </tr>\n",
       "    <tr>\n",
       "      <th>2</th>\n",
       "      <td>1</td>\n",
       "      <td>0</td>\n",
       "      <td>1</td>\n",
       "      <td>0.0</td>\n",
       "      <td>66.000000</td>\n",
       "      <td>360.0</td>\n",
       "      <td>1.0</td>\n",
       "      <td>0</td>\n",
       "      <td>1</td>\n",
       "    </tr>\n",
       "    <tr>\n",
       "      <th>3</th>\n",
       "      <td>1</td>\n",
       "      <td>0</td>\n",
       "      <td>0</td>\n",
       "      <td>2358.0</td>\n",
       "      <td>120.000000</td>\n",
       "      <td>360.0</td>\n",
       "      <td>1.0</td>\n",
       "      <td>0</td>\n",
       "      <td>1</td>\n",
       "    </tr>\n",
       "    <tr>\n",
       "      <th>4</th>\n",
       "      <td>0</td>\n",
       "      <td>0</td>\n",
       "      <td>1</td>\n",
       "      <td>0.0</td>\n",
       "      <td>141.000000</td>\n",
       "      <td>360.0</td>\n",
       "      <td>1.0</td>\n",
       "      <td>0</td>\n",
       "      <td>1</td>\n",
       "    </tr>\n",
       "  </tbody>\n",
       "</table>\n",
       "</div>"
      ],
      "text/plain": [
       "   Married  Dependents  Education  CoapplicantIncome  LoanAmount  \\\n",
       "0        0           0          1                0.0  146.412162   \n",
       "1        1           1          1             1508.0  128.000000   \n",
       "2        1           0          1                0.0   66.000000   \n",
       "3        1           0          0             2358.0  120.000000   \n",
       "4        0           0          1                0.0  141.000000   \n",
       "\n",
       "   Loan_Amount_Term  Credit_History  Property_Area  Loan_Status  \n",
       "0             360.0             1.0              0            1  \n",
       "1             360.0             1.0              1            0  \n",
       "2             360.0             1.0              0            1  \n",
       "3             360.0             1.0              0            1  \n",
       "4             360.0             1.0              0            1  "
      ]
     },
     "execution_count": 29,
     "metadata": {},
     "output_type": "execute_result"
    }
   ],
   "source": [
    "df=df.drop([\"Gender\",\"ApplicantIncome\",\"Self_Employed\"], axis=1)\n",
    "df.head()"
   ]
  },
  {
   "cell_type": "markdown",
   "id": "c0d38b68",
   "metadata": {},
   "source": [
    "## Correlation using heatmap"
   ]
  },
  {
   "cell_type": "markdown",
   "id": "9fac967e",
   "metadata": {},
   "source": [
    "#### Visualizing Correlation using heatmap"
   ]
  },
  {
   "cell_type": "code",
   "execution_count": 30,
   "id": "a5947065",
   "metadata": {},
   "outputs": [
    {
     "data": {
      "image/png": "[encoded data removed]",
      "text/plain": [
       "<Figure size 1080x504 with 2 Axes>"
      ]
     },
     "metadata": {
      "needs_background": "light"
     },
     "output_type": "display_data"
    }
   ],
   "source": [
    "plt.figure(figsize = (15,7))\n",
    "matrix = np.triu(df.corr())\n",
    "sns.heatmap(df.corr(), annot = True, fmt = '.2f',linewidths=2, mask=matrix, cmap='inferno')\n",
    "plt.show()"
   ]
  },
  {
   "cell_type": "markdown",
   "id": "edcd77b6",
   "metadata": {},
   "source": [
    "#### Visualizing Variables summary using Heat map"
   ]
  },
  {
   "cell_type": "code",
   "execution_count": 31,
   "id": "4e126ebf",
   "metadata": {},
   "outputs": [
    {
     "data": {
      "image/png": "[encoded data removed]",
      "text/plain": [
       "<Figure size 1080x864 with 2 Axes>"
      ]
     },
     "metadata": {
      "needs_background": "light"
     },
     "output_type": "display_data"
    }
   ],
   "source": [
    "plt.figure(figsize=(15,12))\n",
    "sns.heatmap(round(df.describe()[1:].transpose(),2),linewidth = 2, annot = True, fmt='f')\n",
    "plt.xticks(fontsize=18)\n",
    "plt.yticks(fontsize=12)\n",
    "plt.title(\"Variables summary\")\n",
    "plt.show()"
   ]
  },
  {
   "cell_type": "markdown",
   "id": "76a6bdca",
   "metadata": {},
   "source": [
    "## Finding Outliers"
   ]
  },
  {
   "cell_type": "code",
   "execution_count": 32,
   "id": "0d193b1e",
   "metadata": {
    "scrolled": false
   },
   "outputs": [
    {
     "data": {
      "image/png": "[encoded data removed]",
      "text/plain": [
       "<Figure size 2160x6480 with 9 Axes>"
      ]
     },
     "metadata": {
      "needs_background": "light"
     },
     "output_type": "display_data"
    }
   ],
   "source": [
    "collist = df.columns.values\n",
    "ncol = 30\n",
    "nrows = 14\n",
    "plt.figure(figsize=(ncol,3*ncol))\n",
    "for i in range(0, len(collist)):\n",
    "    plt.subplot(nrows, ncol, i+1)\n",
    "    sns.boxplot(data = df[collist[i]], color='green', orient='v')\n",
    "    plt.tight_layout()"
   ]
  },
  {
   "cell_type": "markdown",
   "id": "c095afae",
   "metadata": {},
   "source": [
    "## Skewness"
   ]
  },
  {
   "cell_type": "code",
   "execution_count": 33,
   "id": "71b91a24",
   "metadata": {
    "scrolled": true
   },
   "outputs": [
    {
     "data": {
      "text/plain": [
       "Married             -0.644850\n",
       "Dependents           1.015551\n",
       "Education           -1.367622\n",
       "CoapplicantIncome    7.491531\n",
       "LoanAmount           2.726601\n",
       "Loan_Amount_Term    -2.402112\n",
       "Credit_History      -2.021971\n",
       "Property_Area       -0.095601\n",
       "Loan_Status         -0.809998\n",
       "dtype: float64"
      ]
     },
     "execution_count": 33,
     "metadata": {},
     "output_type": "execute_result"
    }
   ],
   "source": [
    "df.skew()"
   ]
  },
  {
   "cell_type": "markdown",
   "id": "219b6a6e",
   "metadata": {},
   "source": [
    "##### lets see how the data is distributed for every column"
   ]
  },
  {
   "cell_type": "code",
   "execution_count": 34,
   "id": "1abbf0f3",
   "metadata": {
    "scrolled": false
   },
   "outputs": [
    {
     "data": {
      "image/png": "[encoded data removed]",
      "text/plain": [
       "<Figure size 1080x1440 with 9 Axes>"
      ]
     },
     "metadata": {
      "needs_background": "light"
     },
     "output_type": "display_data"
    }
   ],
   "source": [
    "plt.figure(figsize = (15,20))\n",
    "plotnumber = 1\n",
    "\n",
    "for column in df:\n",
    "    if plotnumber <=9:\n",
    "        ax = plt.subplot(3,3,plotnumber)\n",
    "        sns.distplot(df[column])\n",
    "        plt.xlabel(column, fontsize = 20)\n",
    "        \n",
    "    plotnumber += 1\n",
    "plt.show()"
   ]
  },
  {
   "cell_type": "markdown",
   "id": "96f364d6",
   "metadata": {},
   "source": [
    "### Removing Outliers:\n",
    "#### Z-Score Technique:"
   ]
  },
  {
   "cell_type": "code",
   "execution_count": 35,
   "id": "8e284b42",
   "metadata": {},
   "outputs": [],
   "source": [
    "from scipy.stats import zscore"
   ]
  },
  {
   "cell_type": "code",
   "execution_count": 36,
   "id": "eb7bc853",
   "metadata": {},
   "outputs": [
    {
     "data": {
      "text/plain": [
       "(614, 9)"
      ]
     },
     "execution_count": 36,
     "metadata": {},
     "output_type": "execute_result"
    }
   ],
   "source": [
    "z= np.abs(zscore(df))\n",
    "z.shape"
   ]
  },
  {
   "cell_type": "code",
   "execution_count": 37,
   "id": "1539b6d2",
   "metadata": {},
   "outputs": [
    {
     "name": "stdout",
     "output_type": "stream",
     "text": [
      "(array([  9,  14,  68,  94, 130, 133, 155, 171, 177, 177, 242, 262, 278,\n",
      "       308, 313, 333, 369, 402, 417, 432, 487, 495, 497, 506, 523, 525,\n",
      "       546, 561, 575, 581, 585, 600, 604], dtype=int64), array([3, 5, 5, 5, 4, 5, 4, 4, 3, 4, 5, 5, 4, 4, 5, 4, 4, 3, 3, 4, 4, 5,\n",
      "       5, 4, 4, 4, 5, 4, 5, 3, 5, 3, 4], dtype=int64))\n"
     ]
    }
   ],
   "source": [
    "threshold=3\n",
    "# index number\n",
    "print(np.where(z>3))"
   ]
  },
  {
   "cell_type": "code",
   "execution_count": 38,
   "id": "cd1931c6",
   "metadata": {},
   "outputs": [
    {
     "data": {
      "text/plain": [
       "33"
      ]
     },
     "execution_count": 38,
     "metadata": {},
     "output_type": "execute_result"
    }
   ],
   "source": [
    "len(np.where(z>3)[0])"
   ]
  },
  {
   "cell_type": "code",
   "execution_count": 39,
   "id": "6f390dfc",
   "metadata": {},
   "outputs": [
    {
     "name": "stdout",
     "output_type": "stream",
     "text": [
      "(614, 9)\n",
      "(582, 9)\n"
     ]
    }
   ],
   "source": [
    "df_new=df[(z<3).all(axis=1)]\n",
    "print(df.shape)\n",
    "print(df_new.shape)"
   ]
  },
  {
   "cell_type": "code",
   "execution_count": 40,
   "id": "822bd27b",
   "metadata": {},
   "outputs": [
    {
     "name": "stdout",
     "output_type": "stream",
     "text": [
      "5.211726384364821 %\n"
     ]
    }
   ],
   "source": [
    "loss_percent=(614-582)/614*100\n",
    "print(loss_percent, '%')"
   ]
  },
  {
   "cell_type": "markdown",
   "id": "e1c7ba88",
   "metadata": {},
   "source": [
    "Checking whether how much outliers are still there. If the outliers there help in the testing the model or not."
   ]
  },
  {
   "cell_type": "markdown",
   "id": "45f85eb2",
   "metadata": {},
   "source": [
    "#### Model without outliers is df and mdel with desired outliers is df_new1:"
   ]
  },
  {
   "cell_type": "markdown",
   "id": "f476b879",
   "metadata": {},
   "source": [
    "Dividing data in features and vectors:"
   ]
  },
  {
   "cell_type": "code",
   "execution_count": 41,
   "id": "30aa0d1a",
   "metadata": {},
   "outputs": [],
   "source": [
    "# independent column/features\n",
    "x=df_new.iloc[:,:-1]\n",
    "# target\n",
    "y=df_new.iloc[:,-1]"
   ]
  },
  {
   "cell_type": "markdown",
   "id": "122a232a",
   "metadata": {},
   "source": [
    "#### Transforming data to remove skewness:"
   ]
  },
  {
   "cell_type": "code",
   "execution_count": 42,
   "id": "1ac4bc3d",
   "metadata": {},
   "outputs": [],
   "source": [
    "from sklearn.preprocessing import power_transform\n",
    "x=power_transform(x,method='yeo-johnson')"
   ]
  },
  {
   "cell_type": "code",
   "execution_count": 43,
   "id": "2e36f89d",
   "metadata": {},
   "outputs": [
    {
     "data": {
      "text/plain": [
       "array([[-1.36638028e+00, -8.14462909e-01,  5.38948636e-01, ...,\n",
       "         1.29897450e-01,  4.19234512e-01, -1.28609606e+00],\n",
       "       [ 7.31860679e-01,  8.88791720e-01,  5.38948636e-01, ...,\n",
       "         1.29897450e-01,  4.19234512e-01, -2.14622347e-03],\n",
       "       [ 7.31860679e-01, -8.14462909e-01,  5.38948636e-01, ...,\n",
       "         1.29897450e-01,  4.19234512e-01, -1.28609606e+00],\n",
       "       ...,\n",
       "       [ 7.31860679e-01,  8.88791720e-01,  5.38948636e-01, ...,\n",
       "         1.29897450e-01,  4.19234512e-01, -1.28609606e+00],\n",
       "       [ 7.31860679e-01,  1.33659450e+00,  5.38948636e-01, ...,\n",
       "         1.29897450e-01,  4.19234512e-01, -1.28609606e+00],\n",
       "       [-1.36638028e+00, -8.14462909e-01,  5.38948636e-01, ...,\n",
       "         1.29897450e-01, -2.38529981e+00,  1.10656114e+00]])"
      ]
     },
     "execution_count": 43,
     "metadata": {},
     "output_type": "execute_result"
    }
   ],
   "source": [
    "x"
   ]
  },
  {
   "cell_type": "code",
   "execution_count": 44,
   "id": "41c4a9eb",
   "metadata": {
    "scrolled": true
   },
   "outputs": [
    {
     "data": {
      "text/plain": [
       "array([[-1.36638028e+00, -8.14462909e-01,  5.38948636e-01, ...,\n",
       "         1.29897450e-01,  4.19234512e-01, -1.28609606e+00],\n",
       "       [ 7.31860679e-01,  8.88791720e-01,  5.38948636e-01, ...,\n",
       "         1.29897450e-01,  4.19234512e-01, -2.14622347e-03],\n",
       "       [ 7.31860679e-01, -8.14462909e-01,  5.38948636e-01, ...,\n",
       "         1.29897450e-01,  4.19234512e-01, -1.28609606e+00],\n",
       "       ...,\n",
       "       [ 7.31860679e-01,  8.88791720e-01,  5.38948636e-01, ...,\n",
       "         1.29897450e-01,  4.19234512e-01, -1.28609606e+00],\n",
       "       [ 7.31860679e-01,  1.33659450e+00,  5.38948636e-01, ...,\n",
       "         1.29897450e-01,  4.19234512e-01, -1.28609606e+00],\n",
       "       [-1.36638028e+00, -8.14462909e-01,  5.38948636e-01, ...,\n",
       "         1.29897450e-01, -2.38529981e+00,  1.10656114e+00]])"
      ]
     },
     "execution_count": 44,
     "metadata": {},
     "output_type": "execute_result"
    }
   ],
   "source": [
    "from sklearn.preprocessing import StandardScaler\n",
    "sc=StandardScaler()\n",
    "x=sc.fit_transform(x)\n",
    "x"
   ]
  },
  {
   "cell_type": "markdown",
   "id": "e973db2f",
   "metadata": {},
   "source": [
    "#### Since the outcome \"Loan_Status\" has only two variable we will use binary classification model."
   ]
  },
  {
   "cell_type": "markdown",
   "id": "deb30ff1",
   "metadata": {},
   "source": [
    "## Preprocessing and Classification"
   ]
  },
  {
   "cell_type": "markdown",
   "id": "65fd31f9",
   "metadata": {},
   "source": [
    "#### First of all we split the Loan_Status column from the other columns and use SMOTE to make the \"Loan_Status\" column distribution equal"
   ]
  },
  {
   "cell_type": "code",
   "execution_count": 45,
   "id": "ff06d213",
   "metadata": {},
   "outputs": [
    {
     "data": {
      "text/plain": [
       "1    422\n",
       "0    192\n",
       "Name: Loan_Status, dtype: int64"
      ]
     },
     "execution_count": 45,
     "metadata": {},
     "output_type": "execute_result"
    }
   ],
   "source": [
    "x = df.drop(columns=[\"Loan_Status\"])\n",
    "y = df[\"Loan_Status\"]\n",
    "\n",
    "# Show distribution of 0 and 1\n",
    "y.value_counts()"
   ]
  },
  {
   "cell_type": "code",
   "execution_count": 46,
   "id": "3950a457",
   "metadata": {},
   "outputs": [
    {
     "data": {
      "text/plain": [
       "0    422\n",
       "1    422\n",
       "Name: Loan_Status, dtype: int64"
      ]
     },
     "execution_count": 46,
     "metadata": {},
     "output_type": "execute_result"
    }
   ],
   "source": [
    "from imblearn.over_sampling import SMOTE\n",
    "sm = SMOTE(random_state=42)\n",
    "x, y = sm.fit_resample(x, y)\n",
    "y.value_counts()"
   ]
  },
  {
   "cell_type": "markdown",
   "id": "0b164e78",
   "metadata": {},
   "source": [
    "## Split train and test dataset"
   ]
  },
  {
   "cell_type": "code",
   "execution_count": 47,
   "id": "2e508cc0",
   "metadata": {},
   "outputs": [],
   "source": [
    "X_train, X_test, y_train, y_test = train_test_split(x, y, test_size=0.2, random_state=14)"
   ]
  },
  {
   "cell_type": "markdown",
   "id": "a9b661e9",
   "metadata": {},
   "source": [
    "# Model Building"
   ]
  },
  {
   "cell_type": "code",
   "execution_count": 48,
   "id": "40547fc0",
   "metadata": {},
   "outputs": [],
   "source": [
    "from sklearn.linear_model import LogisticRegression\n",
    "from sklearn.ensemble import RandomForestClassifier\n",
    "from sklearn.tree import DecisionTreeClassifier\n",
    "from sklearn.neighbors import KNeighborsClassifier\n",
    "from sklearn.naive_bayes import GaussianNB\n",
    "from sklearn.metrics import accuracy_score, confusion_matrix, classification_report\n",
    "from sklearn.metrics import roc_curve, roc_auc_score, auc\n",
    "from sklearn.model_selection import cross_val_score"
   ]
  },
  {
   "cell_type": "markdown",
   "id": "43a25535",
   "metadata": {},
   "source": [
    "##### As it is a classification problem, I will use five ML Algorithms:\n",
    "1. Logistic Regression\n",
    "2. Naive Bayes\n",
    "3. Decision Tree \n",
    "4. Random forest\n",
    "5. KNeighborsClassifier\n",
    "\n",
    "##### Then, \n",
    "* See the confusion matrix of all the Machine learning algorithms \n",
    "\n",
    "##### Among the best model I get, will find :\n",
    "* The hyper parameter tuning of the best algorithm\n",
    "* The cross validation of that Machine learning algorithm\n",
    "* Have a classification reports of that Machine learning algorithm\n",
    "* Find out the AUC-ROC score and plot ROC Curve.\n",
    "\n",
    "##### Finally:\n",
    "- Save the model with the best accuracy score."
   ]
  },
  {
   "cell_type": "code",
   "execution_count": 49,
   "id": "657b18f7",
   "metadata": {},
   "outputs": [],
   "source": [
    "# Create empty list and append each model to list\n",
    "models = []\n",
    "models.append((\"LOGR\", LogisticRegression()))\n",
    "models.append((\"NAIVE BAYES\", GaussianNB()))\n",
    "models.append((\"DT\", DecisionTreeClassifier()))\n",
    "models.append((\"RF\", RandomForestClassifier()))\n",
    "models.append((\"KNN\", KNeighborsClassifier()))\n",
    "\n",
    "# Empty list for results of the evaluation\n",
    "model_results = []"
   ]
  },
  {
   "cell_type": "code",
   "execution_count": 50,
   "id": "40371249",
   "metadata": {},
   "outputs": [],
   "source": [
    "# Function: for each element in model list there will be an evaluation -> Results will be added to results df\n",
    "def train_all_models(models):\n",
    "    i = 1\n",
    "    plt.figure(figsize=(15, 20))\n",
    "    for method, model in models:\n",
    "        model.fit(X_train, y_train)\n",
    "        test_pred = model.predict(X_test)\n",
    "\n",
    "        f_score = model.score(X_test, y_test)\n",
    "        model_results.append((method, f_score))\n",
    "\n",
    "        plt.subplot(3, 2, i)\n",
    "        plt.subplots_adjust(hspace=0.3, wspace=0.3)\n",
    "        sns.heatmap(confusion_matrix(y_test, test_pred), annot=True, cmap=\"Greens\")\n",
    "        plt.title(model, fontsize=14)\n",
    "        plt.xlabel('Test', fontsize=12)\n",
    "        plt.ylabel('Predict', fontsize=12)\n",
    "        df = pd.DataFrame(model_results).transpose()\n",
    "        i+=1\n",
    "\n",
    "# Show confusion matrix for each trained model \n",
    "    plt.show()\n",
    "    df = pd.DataFrame(model_results)\n",
    "    return df"
   ]
  },
  {
   "cell_type": "code",
   "execution_count": 51,
   "id": "b22ea460",
   "metadata": {
    "scrolled": false
   },
   "outputs": [
    {
     "data": {
      "image/png": "[encoded data removed]",
      "text/plain": [
       "<Figure size 1080x1440 with 10 Axes>"
      ]
     },
     "metadata": {
      "needs_background": "light"
     },
     "output_type": "display_data"
    }
   ],
   "source": [
    "# Sort results df for later visualizations    \n",
    "best_models = train_all_models(models)\n",
    "best_models = best_models.sort_values([1], ascending=False)"
   ]
  },
  {
   "cell_type": "code",
   "execution_count": 52,
   "id": "ea09bb7b",
   "metadata": {},
   "outputs": [
    {
     "data": {
      "text/html": [
       "<div>\n",
       "<style scoped>\n",
       "    .dataframe tbody tr th:only-of-type {\n",
       "        vertical-align: middle;\n",
       "    }\n",
       "\n",
       "    .dataframe tbody tr th {\n",
       "        vertical-align: top;\n",
       "    }\n",
       "\n",
       "    .dataframe thead th {\n",
       "        text-align: right;\n",
       "    }\n",
       "</style>\n",
       "<table border=\"1\" class=\"dataframe\">\n",
       "  <thead>\n",
       "    <tr style=\"text-align: right;\">\n",
       "      <th></th>\n",
       "      <th>0</th>\n",
       "      <th>1</th>\n",
       "    </tr>\n",
       "  </thead>\n",
       "  <tbody>\n",
       "    <tr>\n",
       "      <th>3</th>\n",
       "      <td>RF</td>\n",
       "      <td>0.810651</td>\n",
       "    </tr>\n",
       "    <tr>\n",
       "      <th>2</th>\n",
       "      <td>DT</td>\n",
       "      <td>0.781065</td>\n",
       "    </tr>\n",
       "    <tr>\n",
       "      <th>0</th>\n",
       "      <td>LOGR</td>\n",
       "      <td>0.745562</td>\n",
       "    </tr>\n",
       "    <tr>\n",
       "      <th>1</th>\n",
       "      <td>NAIVE BAYES</td>\n",
       "      <td>0.745562</td>\n",
       "    </tr>\n",
       "    <tr>\n",
       "      <th>4</th>\n",
       "      <td>KNN</td>\n",
       "      <td>0.633136</td>\n",
       "    </tr>\n",
       "  </tbody>\n",
       "</table>\n",
       "</div>"
      ],
      "text/plain": [
       "             0         1\n",
       "3           RF  0.810651\n",
       "2           DT  0.781065\n",
       "0         LOGR  0.745562\n",
       "1  NAIVE BAYES  0.745562\n",
       "4          KNN  0.633136"
      ]
     },
     "execution_count": 52,
     "metadata": {},
     "output_type": "execute_result"
    }
   ],
   "source": [
    "best_models"
   ]
  },
  {
   "cell_type": "code",
   "execution_count": 53,
   "id": "9f59bef1",
   "metadata": {},
   "outputs": [
    {
     "data": {
      "image/png": "[encoded data removed]",
      "text/plain": [
       "<Figure size 720x432 with 1 Axes>"
      ]
     },
     "metadata": {
      "needs_background": "light"
     },
     "output_type": "display_data"
    }
   ],
   "source": [
    "y_pos = np.arange(len(best_models[0]))\n",
    "plt.figure(figsize=(10, 6))\n",
    "plt.bar(y_pos, best_models[1], color=(0.2, 0.4, 0.6, 0.6))\n",
    "plt.xticks(y_pos, best_models[0])\n",
    "plt.title('F-Score of all trained models')\n",
    "plt.xlabel('Model Type')\n",
    "plt.ylabel('F-Score')\n",
    "plt.show()"
   ]
  },
  {
   "cell_type": "markdown",
   "id": "c47d8196",
   "metadata": {},
   "source": [
    "### Hyperparameter Tuning of best  model"
   ]
  },
  {
   "cell_type": "code",
   "execution_count": 54,
   "id": "85936bd5",
   "metadata": {},
   "outputs": [
    {
     "data": {
      "text/plain": [
       "RandomForestClassifier()"
      ]
     },
     "execution_count": 54,
     "metadata": {},
     "output_type": "execute_result"
    }
   ],
   "source": [
    "rf = RandomForestClassifier()\n",
    "rf.fit(X_train, y_train)"
   ]
  },
  {
   "cell_type": "code",
   "execution_count": 55,
   "id": "a56a397f",
   "metadata": {},
   "outputs": [
    {
     "name": "stdout",
     "output_type": "stream",
     "text": [
      "Fitting 10 folds for each of 10 candidates, totalling 100 fits\n",
      "RandomForestClassifier(max_depth=36, max_features=2, n_estimators=88)\n",
      "0.8074846356453029\n"
     ]
    }
   ],
   "source": [
    "from sklearn.model_selection import RandomizedSearchCV\n",
    "\n",
    "# Grid Search for RandomForestClassifier\n",
    "grid_param_RF = {\n",
    "    \"n_estimators\": randint(low=1, high=100),\n",
    "    \"max_depth\": randint(low=10, high=100),\n",
    "    \"max_features\": randint(low=1, high=4)\n",
    "}\n",
    "\n",
    "RF_grid_search = RandomizedSearchCV(estimator=rf, param_distributions=grid_param_RF, cv= 10, verbose=1, random_state=14)\n",
    "RF_grid_search.fit(X_train, y_train)\n",
    "\n",
    "RF_best_grid = RF_grid_search.best_estimator_\n",
    "print(RF_best_grid)\n",
    "print(RF_grid_search.best_score_)"
   ]
  },
  {
   "cell_type": "markdown",
   "id": "0ed95c14",
   "metadata": {},
   "source": [
    "#### Taking the Model and train it again with best Hyperparameters"
   ]
  },
  {
   "cell_type": "code",
   "execution_count": 56,
   "id": "f22be689",
   "metadata": {},
   "outputs": [
    {
     "name": "stdout",
     "output_type": "stream",
     "text": [
      "Classification report\n",
      "               precision    recall  f1-score   support\n",
      "\n",
      "           0       0.84      0.82      0.83        93\n",
      "           1       0.78      0.80      0.79        76\n",
      "\n",
      "    accuracy                           0.81       169\n",
      "   macro avg       0.81      0.81      0.81       169\n",
      "weighted avg       0.81      0.81      0.81       169\n",
      "\n",
      "Score =  0.8106508875739645\n"
     ]
    }
   ],
   "source": [
    "best_model = RandomForestClassifier(max_depth=36, max_features=2, n_estimators=88)\n",
    "best_model.fit(X_train, y_train)\n",
    "pred = best_model.predict(X_test)\n",
    "\n",
    "print(\"Classification report\\n\",classification_report(pred, y_test))\n",
    "print(\"Score = \",best_model.score(X_test,y_test))"
   ]
  },
  {
   "cell_type": "markdown",
   "id": "f520ec2c",
   "metadata": {},
   "source": [
    "## Cross Validation for Random Forest Classifier"
   ]
  },
  {
   "cell_type": "code",
   "execution_count": 57,
   "id": "6be71466",
   "metadata": {},
   "outputs": [
    {
     "name": "stdout",
     "output_type": "stream",
     "text": [
      "At cv:- 2\n",
      "Cross validation score is:- 79.38388625592417\n",
      "Accuracy_score is:- 81.06508875739645\n",
      "\n",
      "\n",
      "At cv:- 3\n",
      "Cross validation score is:- 79.27109361197346\n",
      "Accuracy_score is:- 81.06508875739645\n",
      "\n",
      "\n",
      "At cv:- 4\n",
      "Cross validation score is:- 79.38388625592417\n",
      "Accuracy_score is:- 81.06508875739645\n",
      "\n",
      "\n",
      "At cv:- 5\n",
      "Cross validation score is:- 80.6931530008453\n",
      "Accuracy_score is:- 81.06508875739645\n",
      "\n",
      "\n",
      "At cv:- 6\n",
      "Cross validation score is:- 81.05369807497468\n",
      "Accuracy_score is:- 81.06508875739645\n",
      "\n",
      "\n",
      "At cv:- 7\n",
      "Cross validation score is:- 80.23612750885476\n",
      "Accuracy_score is:- 81.06508875739645\n",
      "\n",
      "\n",
      "At cv:- 8\n",
      "Cross validation score is:- 80.95350404312669\n",
      "Accuracy_score is:- 81.06508875739645\n",
      "\n",
      "\n",
      "At cv:- 9\n",
      "Cross validation score is:- 80.82055974986653\n",
      "Accuracy_score is:- 81.06508875739645\n",
      "\n",
      "\n"
     ]
    }
   ],
   "source": [
    "rfc=accuracy_score(y_test,pred)\n",
    "for j in range(2,10):\n",
    "    rfscore=cross_val_score(rf,x,y,cv=j)\n",
    "    rnfc=rfscore.mean()\n",
    "    print('At cv:-', j)\n",
    "    print('Cross validation score is:-',rnfc*100)\n",
    "    print('Accuracy_score is:-',rfc*100)\n",
    "    print('\\n')"
   ]
  },
  {
   "cell_type": "code",
   "execution_count": 58,
   "id": "326502c3",
   "metadata": {},
   "outputs": [
    {
     "name": "stdout",
     "output_type": "stream",
     "text": [
      "The cv score is:- 0.797442941673711 \n",
      "The accuracy score is:- 0.8106508875739645\n"
     ]
    }
   ],
   "source": [
    "rfscore_selected = cross_val_score(rf,x,y,cv=5).mean()\n",
    "print(\"The cv score is:-\", rfscore_selected,'\\nThe accuracy score is:-',rfc)"
   ]
  },
  {
   "cell_type": "markdown",
   "id": "a66f6002",
   "metadata": {},
   "source": [
    "### ROC AUC curve for Random Forest"
   ]
  },
  {
   "cell_type": "code",
   "execution_count": 59,
   "id": "6b750274",
   "metadata": {},
   "outputs": [
    {
     "data": {
      "text/plain": [
       "0.8086080586080586"
      ]
     },
     "execution_count": 59,
     "metadata": {},
     "output_type": "execute_result"
    }
   ],
   "source": [
    "rf_roc=roc_auc_score(y_test, pred)\n",
    "rf_roc"
   ]
  },
  {
   "cell_type": "code",
   "execution_count": 60,
   "id": "4cad6806",
   "metadata": {},
   "outputs": [
    {
     "data": {
      "image/png": "[encoded data removed]",
      "text/plain": [
       "<Figure size 432x288 with 1 Axes>"
      ]
     },
     "metadata": {
      "needs_background": "light"
     },
     "output_type": "display_data"
    }
   ],
   "source": [
    "fpr, tpr, thresholds = roc_curve(pred, y_test)\n",
    "roc_auc = auc(fpr, tpr)\n",
    "\n",
    "plt.figure()\n",
    "plt.plot(fpr,tpr,color='darkorange', label='ROC Curve (area=0.2f)'% roc_auc)\n",
    "plt.plot([0,1],[0,1], color='navy')\n",
    "plt.xlim([0.0,1.0])\n",
    "plt.ylim([0.0,1.05])\n",
    "plt.xlabel('False Positive Rate')\n",
    "plt.ylabel('True Positive Rate')\n",
    "plt.legend(loc='lower right')\n",
    "plt.show()"
   ]
  },
  {
   "cell_type": "markdown",
   "id": "7ce72bd0",
   "metadata": {},
   "source": [
    "# Saving the best model"
   ]
  },
  {
   "cell_type": "code",
   "execution_count": 61,
   "id": "dd4cf749",
   "metadata": {},
   "outputs": [
    {
     "data": {
      "text/plain": [
       "['Loan Application Status Prediction.pkl']"
      ]
     },
     "execution_count": 61,
     "metadata": {},
     "output_type": "execute_result"
    }
   ],
   "source": [
    "import joblib\n",
    "joblib.dump(rf,'Loan Application Status Prediction.pkl')"
   ]
  },
  {
   "cell_type": "markdown",
   "id": "7399c243",
   "metadata": {},
   "source": [
    "# Conclusion"
   ]
  },
  {
   "cell_type": "code",
   "execution_count": 64,
   "id": "553e08f0",
   "metadata": {},
   "outputs": [
    {
     "data": {
      "text/html": [
       "<div>\n",
       "<style scoped>\n",
       "    .dataframe tbody tr th:only-of-type {\n",
       "        vertical-align: middle;\n",
       "    }\n",
       "\n",
       "    .dataframe tbody tr th {\n",
       "        vertical-align: top;\n",
       "    }\n",
       "\n",
       "    .dataframe thead th {\n",
       "        text-align: right;\n",
       "    }\n",
       "</style>\n",
       "<table border=\"1\" class=\"dataframe\">\n",
       "  <thead>\n",
       "    <tr style=\"text-align: right;\">\n",
       "      <th></th>\n",
       "      <th>original</th>\n",
       "      <th>predicted</th>\n",
       "    </tr>\n",
       "  </thead>\n",
       "  <tbody>\n",
       "    <tr>\n",
       "      <th>1</th>\n",
       "      <td>0</td>\n",
       "      <td>0</td>\n",
       "    </tr>\n",
       "    <tr>\n",
       "      <th>2</th>\n",
       "      <td>1</td>\n",
       "      <td>1</td>\n",
       "    </tr>\n",
       "    <tr>\n",
       "      <th>3</th>\n",
       "      <td>1</td>\n",
       "      <td>1</td>\n",
       "    </tr>\n",
       "    <tr>\n",
       "      <th>4</th>\n",
       "      <td>1</td>\n",
       "      <td>1</td>\n",
       "    </tr>\n",
       "    <tr>\n",
       "      <th>5</th>\n",
       "      <td>1</td>\n",
       "      <td>1</td>\n",
       "    </tr>\n",
       "  </tbody>\n",
       "</table>\n",
       "</div>"
      ],
      "text/plain": [
       "   original  predicted\n",
       "1         0          0\n",
       "2         1          1\n",
       "3         1          1\n",
       "4         1          1\n",
       "5         1          1"
      ]
     },
     "execution_count": 64,
     "metadata": {},
     "output_type": "execute_result"
    }
   ],
   "source": [
    "a = np.array(y_test)\n",
    "predicted=np.array(rf.predict(X_test))\n",
    "df_con=pd.DataFrame({'original':a,'predicted':predicted}, index=range(len(a)))\n",
    "df_con.index=df_con.index+1\n",
    "df_con.head()"
   ]
  },
  {
   "cell_type": "code",
   "execution_count": null,
   "id": "d21d090c",
   "metadata": {},
   "outputs": [],
   "source": []
  }
 ],
 "metadata": {
  "kernelspec": {
   "display_name": "Python 3",
   "language": "python",
   "name": "python3"
  },
  "language_info": {
   "codemirror_mode": {
    "name": "ipython",
    "version": 3
   },
   "file_extension": ".py",
   "mimetype": "text/x-python",
   "name": "python",
   "nbconvert_exporter": "python",
   "pygments_lexer": "ipython3",
   "version": "3.8.8"
  }
 },
 "nbformat": 4,
 "nbformat_minor": 5
}
